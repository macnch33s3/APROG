{
 "cells": [
  {
   "cell_type": "markdown",
   "id": "fb49c92a",
   "metadata": {},
   "source": [
    "# Praxisprojekt\n",
    "Dieses Jupyter Notebook können Sie bei der Arbeit an Ihrem Paxisprojekt verwenden, um \n",
    "- Notizen zu machen oder Überlegungen zum Praxisprojekt wie auch Code-Schnipsel zu entwickeln \n",
    "- die Verwendung von Funktionen in separaten Skripten zu demonstrieren\n",
    "\n",
    "Grössere Skripte mit Funktionen sollten Sie in eigenständigen Python-Files (z.B. mein_xyz.py) ablegen und können Sie in Jupyter Notebooks testen. Z.B. so:"
   ]
  },
  {
   "cell_type": "code",
   "execution_count": 9,
   "id": "4171e9c2",
   "metadata": {},
   "outputs": [
    {
     "name": "stdout",
     "output_type": "stream",
     "text": [
      "Hello, Marc!\n"
     ]
    }
   ],
   "source": [
    "# Hier zeigen wir, wie unsere Methode zum Grüssen funktioniert\n",
    "from greet_me import greet\n",
    "\n",
    "# Funktion greet aufrufen und den Namen \"Marc\" übergeben\n",
    "greet(\"Marc\")"
   ]
  }
 ],
 "metadata": {
  "kernelspec": {
   "display_name": "Python 3",
   "language": "python",
   "name": "python3"
  },
  "language_info": {
   "codemirror_mode": {
    "name": "ipython",
    "version": 3
   },
   "file_extension": ".py",
   "mimetype": "text/x-python",
   "name": "python",
   "nbconvert_exporter": "python",
   "pygments_lexer": "ipython3",
   "version": "3.13.7"
  }
 },
 "nbformat": 4,
 "nbformat_minor": 5
}
