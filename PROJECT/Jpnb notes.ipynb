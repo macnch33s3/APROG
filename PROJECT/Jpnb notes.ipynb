{
 "cells": [
  {
   "cell_type": "code",
   "execution_count": null,
   "id": "528c8d75",
   "metadata": {},
   "outputs": [],
   "source": [
    "# import dependencies\n",
    "import seaborn as sns\n",
    "import pandas as pd\n",
    "import matplotlib.pyplot as plt\n",
    "from pathlib import Path\n",
    "\n",
    "pd.set_option('display.max_columns', 500)"
   ]
  },
  {
   "cell_type": "code",
   "execution_count": null,
   "id": "c42e5e44",
   "metadata": {},
   "outputs": [],
   "source": [
    "#      https://github.com/macnch33s3/APROG/tree/main/PROJECT\n",
    "url = 'https://raw.githubusercontent.com/macnch33s3/APROG/refs/heads/main/PROJECT/ladestationen-fur-elektroautos-im-kanton-stgallen.csv'\n",
    "# df = pd.read_csv(url, index_col=0)\n",
    "df = pd.read_csv(url, sep=';', usecols=lambda x: not x.startswith(\"Spalte\"))"
   ]
  }
 ],
 "metadata": {
  "kernelspec": {
   "display_name": "aprog",
   "language": "python",
   "name": "python3"
  },
  "language_info": {
   "name": "python",
   "version": "3.12.11"
  }
 },
 "nbformat": 4,
 "nbformat_minor": 5
}
