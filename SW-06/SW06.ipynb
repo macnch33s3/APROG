{
 "cells": [
  {
   "cell_type": "markdown",
   "id": "fb49c92a",
   "metadata": {},
   "source": [
    "# Semesterwoche 6\n",
    "Dieses Jupyter Notebook soll es Ihnen ermöglichen, aktiv Notizen zum Unterricht zu erstellen und kleine Code-Beispiele zu notieren, die Sie direkt im Notebook ausführen und testen können."
   ]
  },
  {
   "cell_type": "code",
   "execution_count": 1,
   "id": "039c580a",
   "metadata": {},
   "outputs": [
    {
     "name": "stdout",
     "output_type": "stream",
     "text": [
      "Hello, World!\n"
     ]
    }
   ],
   "source": [
    "print(\"Hello, World!\")"
   ]
  }
 ],
 "metadata": {
  "kernelspec": {
   "display_name": "aprog",
   "language": "python",
   "name": "python3"
  },
  "language_info": {
   "codemirror_mode": {
    "name": "ipython",
    "version": 3
   },
   "file_extension": ".py",
   "mimetype": "text/x-python",
   "name": "python",
   "nbconvert_exporter": "python",
   "pygments_lexer": "ipython3",
   "version": "3.12.10"
  }
 },
 "nbformat": 4,
 "nbformat_minor": 5
}
